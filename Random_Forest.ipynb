{
  "nbformat": 4,
  "nbformat_minor": 0,
  "metadata": {
    "kernelspec": {
      "display_name": "Python 3",
      "language": "python",
      "name": "python3"
    },
    "language_info": {
      "codemirror_mode": {
        "name": "ipython",
        "version": 3
      },
      "file_extension": ".py",
      "mimetype": "text/x-python",
      "name": "python",
      "nbconvert_exporter": "python",
      "pygments_lexer": "ipython3",
      "version": "3.8.5"
    },
    "colab": {
      "name": "Random Forest.ipynb",
      "provenance": [],
      "collapsed_sections": []
    }
  },
  "cells": [
    {
      "cell_type": "code",
      "metadata": {
        "id": "n-zR44z-QUQP"
      },
      "source": [
        "import pandas as pd\n",
        "import numpy as np\n",
        "import seaborn as sns\n",
        "import matplotlib.pyplot as plt\n",
        "from sklearn.model_selection import train_test_split\n",
        "from sklearn import preprocessing"
      ],
      "execution_count": null,
      "outputs": []
    },
    {
      "cell_type": "code",
      "metadata": {
        "id": "XAthB4kuQUQW"
      },
      "source": [
        "raw_train_values = pd.read_csv('train_values.csv')\n",
        "raw_train_labels = pd.read_csv('train_labels.csv')"
      ],
      "execution_count": null,
      "outputs": []
    },
    {
      "cell_type": "code",
      "metadata": {
        "colab": {
          "base_uri": "https://localhost:8080/"
        },
        "id": "CjnwM7rqnG_c",
        "outputId": "ea2e91f6-7096-4eff-83cb-691b9caa0563"
      },
      "source": [
        "len(raw_train_values)"
      ],
      "execution_count": null,
      "outputs": [
        {
          "output_type": "execute_result",
          "data": {
            "text/plain": [
              "260601"
            ]
          },
          "metadata": {},
          "execution_count": 3
        }
      ]
    },
    {
      "cell_type": "code",
      "metadata": {
        "colab": {
          "base_uri": "https://localhost:8080/",
          "height": 226
        },
        "id": "w33XDitwQUQY",
        "outputId": "81ed9bf2-3e86-46ef-a2bb-51e6ed5706d9"
      },
      "source": [
        "raw_train_values.head()"
      ],
      "execution_count": null,
      "outputs": [
        {
          "output_type": "execute_result",
          "data": {
            "text/html": [
              "<div>\n",
              "<style scoped>\n",
              "    .dataframe tbody tr th:only-of-type {\n",
              "        vertical-align: middle;\n",
              "    }\n",
              "\n",
              "    .dataframe tbody tr th {\n",
              "        vertical-align: top;\n",
              "    }\n",
              "\n",
              "    .dataframe thead th {\n",
              "        text-align: right;\n",
              "    }\n",
              "</style>\n",
              "<table border=\"1\" class=\"dataframe\">\n",
              "  <thead>\n",
              "    <tr style=\"text-align: right;\">\n",
              "      <th></th>\n",
              "      <th>building_id</th>\n",
              "      <th>geo_level_1_id</th>\n",
              "      <th>geo_level_2_id</th>\n",
              "      <th>geo_level_3_id</th>\n",
              "      <th>count_floors_pre_eq</th>\n",
              "      <th>age</th>\n",
              "      <th>area_percentage</th>\n",
              "      <th>height_percentage</th>\n",
              "      <th>land_surface_condition</th>\n",
              "      <th>foundation_type</th>\n",
              "      <th>roof_type</th>\n",
              "      <th>ground_floor_type</th>\n",
              "      <th>other_floor_type</th>\n",
              "      <th>position</th>\n",
              "      <th>plan_configuration</th>\n",
              "      <th>has_superstructure_adobe_mud</th>\n",
              "      <th>has_superstructure_mud_mortar_stone</th>\n",
              "      <th>has_superstructure_stone_flag</th>\n",
              "      <th>has_superstructure_cement_mortar_stone</th>\n",
              "      <th>has_superstructure_mud_mortar_brick</th>\n",
              "      <th>has_superstructure_cement_mortar_brick</th>\n",
              "      <th>has_superstructure_timber</th>\n",
              "      <th>has_superstructure_bamboo</th>\n",
              "      <th>has_superstructure_rc_non_engineered</th>\n",
              "      <th>has_superstructure_rc_engineered</th>\n",
              "      <th>has_superstructure_other</th>\n",
              "      <th>legal_ownership_status</th>\n",
              "      <th>count_families</th>\n",
              "      <th>has_secondary_use</th>\n",
              "      <th>has_secondary_use_agriculture</th>\n",
              "      <th>has_secondary_use_hotel</th>\n",
              "      <th>has_secondary_use_rental</th>\n",
              "      <th>has_secondary_use_institution</th>\n",
              "      <th>has_secondary_use_school</th>\n",
              "      <th>has_secondary_use_industry</th>\n",
              "      <th>has_secondary_use_health_post</th>\n",
              "      <th>has_secondary_use_gov_office</th>\n",
              "      <th>has_secondary_use_use_police</th>\n",
              "      <th>has_secondary_use_other</th>\n",
              "    </tr>\n",
              "  </thead>\n",
              "  <tbody>\n",
              "    <tr>\n",
              "      <th>0</th>\n",
              "      <td>802906</td>\n",
              "      <td>6</td>\n",
              "      <td>487</td>\n",
              "      <td>12198</td>\n",
              "      <td>2</td>\n",
              "      <td>30</td>\n",
              "      <td>6</td>\n",
              "      <td>5</td>\n",
              "      <td>t</td>\n",
              "      <td>r</td>\n",
              "      <td>n</td>\n",
              "      <td>f</td>\n",
              "      <td>q</td>\n",
              "      <td>t</td>\n",
              "      <td>d</td>\n",
              "      <td>1</td>\n",
              "      <td>1</td>\n",
              "      <td>0</td>\n",
              "      <td>0</td>\n",
              "      <td>0</td>\n",
              "      <td>0</td>\n",
              "      <td>0</td>\n",
              "      <td>0</td>\n",
              "      <td>0</td>\n",
              "      <td>0</td>\n",
              "      <td>0</td>\n",
              "      <td>v</td>\n",
              "      <td>1</td>\n",
              "      <td>0</td>\n",
              "      <td>0</td>\n",
              "      <td>0</td>\n",
              "      <td>0</td>\n",
              "      <td>0</td>\n",
              "      <td>0</td>\n",
              "      <td>0</td>\n",
              "      <td>0</td>\n",
              "      <td>0</td>\n",
              "      <td>0</td>\n",
              "      <td>0</td>\n",
              "    </tr>\n",
              "    <tr>\n",
              "      <th>1</th>\n",
              "      <td>28830</td>\n",
              "      <td>8</td>\n",
              "      <td>900</td>\n",
              "      <td>2812</td>\n",
              "      <td>2</td>\n",
              "      <td>10</td>\n",
              "      <td>8</td>\n",
              "      <td>7</td>\n",
              "      <td>o</td>\n",
              "      <td>r</td>\n",
              "      <td>n</td>\n",
              "      <td>x</td>\n",
              "      <td>q</td>\n",
              "      <td>s</td>\n",
              "      <td>d</td>\n",
              "      <td>0</td>\n",
              "      <td>1</td>\n",
              "      <td>0</td>\n",
              "      <td>0</td>\n",
              "      <td>0</td>\n",
              "      <td>0</td>\n",
              "      <td>0</td>\n",
              "      <td>0</td>\n",
              "      <td>0</td>\n",
              "      <td>0</td>\n",
              "      <td>0</td>\n",
              "      <td>v</td>\n",
              "      <td>1</td>\n",
              "      <td>0</td>\n",
              "      <td>0</td>\n",
              "      <td>0</td>\n",
              "      <td>0</td>\n",
              "      <td>0</td>\n",
              "      <td>0</td>\n",
              "      <td>0</td>\n",
              "      <td>0</td>\n",
              "      <td>0</td>\n",
              "      <td>0</td>\n",
              "      <td>0</td>\n",
              "    </tr>\n",
              "    <tr>\n",
              "      <th>2</th>\n",
              "      <td>94947</td>\n",
              "      <td>21</td>\n",
              "      <td>363</td>\n",
              "      <td>8973</td>\n",
              "      <td>2</td>\n",
              "      <td>10</td>\n",
              "      <td>5</td>\n",
              "      <td>5</td>\n",
              "      <td>t</td>\n",
              "      <td>r</td>\n",
              "      <td>n</td>\n",
              "      <td>f</td>\n",
              "      <td>x</td>\n",
              "      <td>t</td>\n",
              "      <td>d</td>\n",
              "      <td>0</td>\n",
              "      <td>1</td>\n",
              "      <td>0</td>\n",
              "      <td>0</td>\n",
              "      <td>0</td>\n",
              "      <td>0</td>\n",
              "      <td>0</td>\n",
              "      <td>0</td>\n",
              "      <td>0</td>\n",
              "      <td>0</td>\n",
              "      <td>0</td>\n",
              "      <td>v</td>\n",
              "      <td>1</td>\n",
              "      <td>0</td>\n",
              "      <td>0</td>\n",
              "      <td>0</td>\n",
              "      <td>0</td>\n",
              "      <td>0</td>\n",
              "      <td>0</td>\n",
              "      <td>0</td>\n",
              "      <td>0</td>\n",
              "      <td>0</td>\n",
              "      <td>0</td>\n",
              "      <td>0</td>\n",
              "    </tr>\n",
              "    <tr>\n",
              "      <th>3</th>\n",
              "      <td>590882</td>\n",
              "      <td>22</td>\n",
              "      <td>418</td>\n",
              "      <td>10694</td>\n",
              "      <td>2</td>\n",
              "      <td>10</td>\n",
              "      <td>6</td>\n",
              "      <td>5</td>\n",
              "      <td>t</td>\n",
              "      <td>r</td>\n",
              "      <td>n</td>\n",
              "      <td>f</td>\n",
              "      <td>x</td>\n",
              "      <td>s</td>\n",
              "      <td>d</td>\n",
              "      <td>0</td>\n",
              "      <td>1</td>\n",
              "      <td>0</td>\n",
              "      <td>0</td>\n",
              "      <td>0</td>\n",
              "      <td>0</td>\n",
              "      <td>1</td>\n",
              "      <td>1</td>\n",
              "      <td>0</td>\n",
              "      <td>0</td>\n",
              "      <td>0</td>\n",
              "      <td>v</td>\n",
              "      <td>1</td>\n",
              "      <td>0</td>\n",
              "      <td>0</td>\n",
              "      <td>0</td>\n",
              "      <td>0</td>\n",
              "      <td>0</td>\n",
              "      <td>0</td>\n",
              "      <td>0</td>\n",
              "      <td>0</td>\n",
              "      <td>0</td>\n",
              "      <td>0</td>\n",
              "      <td>0</td>\n",
              "    </tr>\n",
              "    <tr>\n",
              "      <th>4</th>\n",
              "      <td>201944</td>\n",
              "      <td>11</td>\n",
              "      <td>131</td>\n",
              "      <td>1488</td>\n",
              "      <td>3</td>\n",
              "      <td>30</td>\n",
              "      <td>8</td>\n",
              "      <td>9</td>\n",
              "      <td>t</td>\n",
              "      <td>r</td>\n",
              "      <td>n</td>\n",
              "      <td>f</td>\n",
              "      <td>x</td>\n",
              "      <td>s</td>\n",
              "      <td>d</td>\n",
              "      <td>1</td>\n",
              "      <td>0</td>\n",
              "      <td>0</td>\n",
              "      <td>0</td>\n",
              "      <td>0</td>\n",
              "      <td>0</td>\n",
              "      <td>0</td>\n",
              "      <td>0</td>\n",
              "      <td>0</td>\n",
              "      <td>0</td>\n",
              "      <td>0</td>\n",
              "      <td>v</td>\n",
              "      <td>1</td>\n",
              "      <td>0</td>\n",
              "      <td>0</td>\n",
              "      <td>0</td>\n",
              "      <td>0</td>\n",
              "      <td>0</td>\n",
              "      <td>0</td>\n",
              "      <td>0</td>\n",
              "      <td>0</td>\n",
              "      <td>0</td>\n",
              "      <td>0</td>\n",
              "      <td>0</td>\n",
              "    </tr>\n",
              "  </tbody>\n",
              "</table>\n",
              "</div>"
            ],
            "text/plain": [
              "   building_id  ...  has_secondary_use_other\n",
              "0       802906  ...                        0\n",
              "1        28830  ...                        0\n",
              "2        94947  ...                        0\n",
              "3       590882  ...                        0\n",
              "4       201944  ...                        0\n",
              "\n",
              "[5 rows x 39 columns]"
            ]
          },
          "metadata": {},
          "execution_count": 4
        }
      ]
    },
    {
      "cell_type": "code",
      "metadata": {
        "id": "btNi-Gi_QUQa"
      },
      "source": [
        "# train test split\n",
        "trainX, testX, trainY, testY = train_test_split(raw_train_values, raw_train_labels['damage_grade'], test_size=0.25) "
      ],
      "execution_count": null,
      "outputs": []
    },
    {
      "cell_type": "code",
      "metadata": {
        "id": "Sqc4XR2UQUQb"
      },
      "source": [
        "# normalizes features so they range from 0 to 1\n",
        "def min_max_columns(df, cols):\n",
        "    \n",
        "    df_subset = df[cols]\n",
        "    \n",
        "    # switch up scaling to see differences\n",
        "    min_max_scaler = preprocessing.MinMaxScaler(feature_range=(0,1))\n",
        "    df_scaled = pd.DataFrame(min_max_scaler.fit_transform(df_subset))\n",
        "\n",
        "    namedict = {}\n",
        "    for i in range(len(cols)):\n",
        "        namedict[i] = cols[i]\n",
        "\n",
        "    df_scaled.rename(columns=namedict, inplace=True)\n",
        "    df_original = df.drop(columns=cols).reset_index()\n",
        "\n",
        "    return pd.concat([df_scaled, df_original], axis=1)\n",
        "\n",
        "def robust_columns(df, cols):\n",
        "    \n",
        "    df_subset = df[cols]\n",
        "    \n",
        "    # switch up scaling to see differences\n",
        "    min_max_scaler = preprocessing.RobustScaler()\n",
        "    df_scaled = pd.DataFrame(min_max_scaler.fit_transform(df_subset))\n",
        "\n",
        "    namedict = {}\n",
        "    for i in range(len(cols)):\n",
        "        namedict[i] = cols[i]\n",
        "\n",
        "    df_scaled.rename(columns=namedict, inplace=True)\n",
        "    df_original = df.drop(columns=cols).reset_index()\n",
        "\n",
        "    return pd.concat([df_scaled, df_original], axis=1)\n",
        "\n",
        "# convert percentages to decimal from 0 to 1\n",
        "def percent_to_decimal(df, cols):\n",
        "\n",
        "    for name in cols:\n",
        "        df[name] = df[name] / 100\n",
        "\n",
        "    return df\n",
        "\n",
        "# converts categorical features to binary features\n",
        "def onehot_encoding(df, cols):\n",
        "\n",
        "    for col_name in cols:\n",
        "        df = pd.get_dummies(df, columns=[col_name])\n",
        "\n",
        "    return df\n"
      ],
      "execution_count": null,
      "outputs": []
    },
    {
      "cell_type": "code",
      "metadata": {
        "id": "2bThw_zbQUQc"
      },
      "source": [
        "def processing(df):\n",
        "    cols = ['geo_level_1_id', 'geo_level_2_id', 'geo_level_3_id']\n",
        "    norm_data = min_max_columns(df, cols)\n",
        "\n",
        "    cols = ['count_floors_pre_eq', 'age']\n",
        "    norm_data = robust_columns(norm_data, cols)\n",
        "\n",
        "    percent_data = percent_to_decimal(norm_data, ['area_percentage','height_percentage'])\n",
        "\n",
        "    categorical = ['land_surface_condition', 'foundation_type', 'roof_type', 'ground_floor_type', \n",
        "                  'other_floor_type', 'position', 'plan_configuration', 'legal_ownership_status']\n",
        "    final = onehot_encoding(percent_data, categorical)\n",
        "\n",
        "    return final"
      ],
      "execution_count": null,
      "outputs": []
    },
    {
      "cell_type": "markdown",
      "metadata": {
        "id": "Mrg9sRLwQUQe"
      },
      "source": [
        "# Decision Tree Classifier"
      ]
    },
    {
      "cell_type": "code",
      "metadata": {
        "id": "dsue9v0wQUQf"
      },
      "source": [
        "from sklearn.tree import DecisionTreeClassifier\n",
        "from sklearn import tree\n",
        "\n",
        "from sklearn.ensemble import BaggingClassifier, RandomForestClassifier\n",
        "from sklearn.model_selection import GridSearchCV, RandomizedSearchCV"
      ],
      "execution_count": null,
      "outputs": []
    },
    {
      "cell_type": "code",
      "metadata": {
        "id": "YGKuKDGaQUQh"
      },
      "source": [
        "trainX = processing(trainX)\n",
        "testX = processing(testX)"
      ],
      "execution_count": null,
      "outputs": []
    },
    {
      "cell_type": "code",
      "metadata": {
        "id": "Yw-flbcGQUQi"
      },
      "source": [
        "dtree = DecisionTreeClassifier(max_depth=25, max_features='auto')\n",
        "dtree.fit(trainX, trainY)\n",
        "preds = dtree.predict(trainX)"
      ],
      "execution_count": null,
      "outputs": []
    },
    {
      "cell_type": "code",
      "metadata": {
        "colab": {
          "base_uri": "https://localhost:8080/"
        },
        "id": "lnoQtbWfQUQj",
        "outputId": "da487f69-723b-4154-bb1c-f9f89b1bc389"
      },
      "source": [
        "dtree.score(testX, testY)"
      ],
      "execution_count": null,
      "outputs": [
        {
          "output_type": "execute_result",
          "data": {
            "text/plain": [
              "0.6179030252797347"
            ]
          },
          "metadata": {},
          "execution_count": 11
        }
      ]
    },
    {
      "cell_type": "markdown",
      "metadata": {
        "id": "NxIhtzcTQUQl"
      },
      "source": [
        "# Random Forest Classifier\n",
        "## Hyperparameter Tuning via RandomizedSearch"
      ]
    },
    {
      "cell_type": "code",
      "metadata": {
        "id": "uCC7ysy_QUQm"
      },
      "source": [
        "features = ['foundation_type_w',\n",
        " 'count_families',\n",
        " 'other_floor_type_q',\n",
        " 'ground_floor_type_f',\n",
        " 'roof_type_x',\n",
        " 'has_superstructure_timber',\n",
        " 'has_superstructure_cement_mortar_brick',\n",
        " 'foundation_type_i',\n",
        " 'count_floors_pre_eq',\n",
        " 'ground_floor_type_v',\n",
        " 'has_superstructure_mud_mortar_stone',\n",
        " 'foundation_type_r',\n",
        " 'height_percentage',\n",
        " 'area_percentage',\n",
        " 'age',\n",
        " 'geo_level_3_id',\n",
        " 'geo_level_2_id',\n",
        " 'geo_level_1_id']"
      ],
      "execution_count": null,
      "outputs": []
    },
    {
      "cell_type": "code",
      "metadata": {
        "id": "juNEutn4QUQn"
      },
      "source": [
        "trainX = trainX[features]\n",
        "testX = testX[features]"
      ],
      "execution_count": null,
      "outputs": []
    },
    {
      "cell_type": "code",
      "metadata": {
        "id": "EPMpaP0fQUQp"
      },
      "source": [
        "Xtrain, Xval, Ytrain, Yval = train_test_split(trainX, trainY, test_size=0.40) "
      ],
      "execution_count": null,
      "outputs": []
    },
    {
      "cell_type": "code",
      "metadata": {
        "id": "BOz7nLpqQUQq"
      },
      "source": [
        "n_estimators = [i for i in range(180,230,8)]\n",
        "max_features = ['auto', 'sqrt']\n",
        "max_depth = [i for i in range(40,70,5)]\n",
        "min_samples_leaf = [i for i in range(2,12,3)]\n",
        "bootstrap = [True, False]"
      ],
      "execution_count": null,
      "outputs": []
    },
    {
      "cell_type": "code",
      "metadata": {
        "id": "O0vc3oPsQUQs"
      },
      "source": [
        "params = {'n_estimators': n_estimators,\n",
        "               'max_features': max_features,\n",
        "               'min_samples_leaf': min_samples_leaf, \n",
        "               'max_depth': max_depth,\n",
        "               'bootstrap': bootstrap}"
      ],
      "execution_count": null,
      "outputs": []
    },
    {
      "cell_type": "code",
      "metadata": {
        "id": "RA3LV32sQUQs"
      },
      "source": [
        "rf_clf = RandomForestClassifier(n_jobs=2)\n",
        "\n",
        "rf_RandomGrid = RandomizedSearchCV(estimator=rf_clf, param_distributions=params)"
      ],
      "execution_count": null,
      "outputs": []
    },
    {
      "cell_type": "code",
      "metadata": {
        "id": "V2N0NWNYQUQt",
        "outputId": "eab30b23-5b8e-4499-804d-e7520ee190a4"
      },
      "source": [
        "rf_RandomGrid.fit(Xval, Yval)"
      ],
      "execution_count": null,
      "outputs": [
        {
          "name": "stderr",
          "output_type": "stream",
          "text": [
            "/Users/vladiatrinh/opt/anaconda3/lib/python3.8/site-packages/joblib/externals/loky/process_executor.py:688: UserWarning: A worker stopped while some jobs were given to the executor. This can be caused by a too short worker timeout or by a memory leak.\n",
            "  warnings.warn(\n",
            "/Users/vladiatrinh/opt/anaconda3/lib/python3.8/site-packages/joblib/externals/loky/process_executor.py:688: UserWarning: A worker stopped while some jobs were given to the executor. This can be caused by a too short worker timeout or by a memory leak.\n",
            "  warnings.warn(\n",
            "/Users/vladiatrinh/opt/anaconda3/lib/python3.8/site-packages/joblib/externals/loky/process_executor.py:688: UserWarning: A worker stopped while some jobs were given to the executor. This can be caused by a too short worker timeout or by a memory leak.\n",
            "  warnings.warn(\n"
          ]
        },
        {
          "data": {
            "text/plain": [
              "RandomizedSearchCV(estimator=RandomForestClassifier(n_jobs=2),\n",
              "                   param_distributions={'bootstrap': [True, False],\n",
              "                                        'max_depth': [40, 45, 50, 55, 60, 65],\n",
              "                                        'max_features': ['auto', 'sqrt'],\n",
              "                                        'min_samples_leaf': [2, 5, 8, 11],\n",
              "                                        'n_estimators': [180, 188, 196, 204,\n",
              "                                                         212, 220, 228]})"
            ]
          },
          "execution_count": 61,
          "metadata": {},
          "output_type": "execute_result"
        }
      ]
    },
    {
      "cell_type": "code",
      "metadata": {
        "id": "w9TZWbvxQUQu",
        "outputId": "6b5c0cc6-3578-4390-9475-e01e8708d40a"
      },
      "source": [
        "rf_RandomGrid.best_params_"
      ],
      "execution_count": null,
      "outputs": [
        {
          "data": {
            "text/plain": [
              "{'n_estimators': 228,\n",
              " 'min_samples_leaf': 2,\n",
              " 'max_features': 'sqrt',\n",
              " 'max_depth': 65,\n",
              " 'bootstrap': True}"
            ]
          },
          "execution_count": 62,
          "metadata": {},
          "output_type": "execute_result"
        }
      ]
    },
    {
      "cell_type": "code",
      "metadata": {
        "id": "NDvRUVDQQUQu",
        "outputId": "fa1a7d52-d5cb-4664-8429-17d9e9f73de5"
      },
      "source": [
        "print (f'Train Accuracy - : {rf_RandomGrid.score(Xval,Yval):.3f}')\n",
        "print (f'Test Accuracy - : {rf_RandomGrid.score(testX,testY):.3f}')"
      ],
      "execution_count": null,
      "outputs": [
        {
          "name": "stdout",
          "output_type": "stream",
          "text": [
            "Train Accuracy - : 0.892\n",
            "Test Accuracy - : 0.716\n"
          ]
        }
      ]
    },
    {
      "cell_type": "code",
      "metadata": {
        "id": "Vh-4BIhvQUQv"
      },
      "source": [
        ""
      ],
      "execution_count": null,
      "outputs": []
    },
    {
      "cell_type": "code",
      "metadata": {
        "id": "m3sURH2IQUQw"
      },
      "source": [
        "tree = RandomForestClassifier(n_estimators=228, \n",
        "                              max_depth=65, \n",
        "                              min_samples_leaf=2,\n",
        "                              max_features='sqrt', \n",
        "                              bootstrap=True).fit(Xtrain, Ytrain)"
      ],
      "execution_count": null,
      "outputs": []
    },
    {
      "cell_type": "code",
      "metadata": {
        "id": "WtSa1I2BQUQw",
        "colab": {
          "base_uri": "https://localhost:8080/"
        },
        "outputId": "020a2e20-e5e2-449b-bccc-9c6685f4402f"
      },
      "source": [
        "my_tree = RandomForestClassifier(n_estimators=200, \n",
        "                              max_depth=50, \n",
        "                              min_samples_leaf=3,\n",
        "                              max_features='sqrt', \n",
        "                              bootstrap=False).fit(Xtrain, Ytrain)\n",
        "\n",
        "print(my_tree.score(Xtrain, Ytrain))\n",
        "print(my_tree.score(testX, testY))"
      ],
      "execution_count": null,
      "outputs": [
        {
          "output_type": "stream",
          "name": "stdout",
          "text": [
            "0.889843949859299\n",
            "0.7205108133413148\n"
          ]
        }
      ]
    },
    {
      "cell_type": "code",
      "metadata": {
        "id": "iTCkBBauQUQx",
        "colab": {
          "base_uri": "https://localhost:8080/",
          "height": 857
        },
        "outputId": "ace33147-4cc8-4f21-a628-d8674ff1a376"
      },
      "source": [
        "plt.figure(figsize=(15,15))\n",
        "plt.barh(Xtrain.columns, tree.feature_importances_)\n"
      ],
      "execution_count": null,
      "outputs": [
        {
          "output_type": "execute_result",
          "data": {
            "text/plain": [
              "<BarContainer object of 18 artists>"
            ]
          },
          "metadata": {},
          "execution_count": 24
        },
        {
          "output_type": "display_data",
          "data": {
            "image/png": "[encoded data removed]",
            "text/plain": [
              "<Figure size 1080x1080 with 1 Axes>"
            ]
          },
          "metadata": {
            "needs_background": "light"
          }
        }
      ]
    },
    {
      "cell_type": "code",
      "metadata": {
        "id": "zJBKCd-VQUQy",
        "colab": {
          "base_uri": "https://localhost:8080/"
        },
        "outputId": "8399d545-072e-4da2-92a4-cdb6681e08b4"
      },
      "source": [
        "tree.score(Xtrain, Ytrain)"
      ],
      "execution_count": null,
      "outputs": [
        {
          "output_type": "execute_result",
          "data": {
            "text/plain": [
              "0.8874136607828089"
            ]
          },
          "metadata": {},
          "execution_count": 25
        }
      ]
    },
    {
      "cell_type": "code",
      "metadata": {
        "id": "tcPTp2YAQUQy",
        "colab": {
          "base_uri": "https://localhost:8080/"
        },
        "outputId": "b582d8e6-9c87-4083-9599-3e0bef34a02e"
      },
      "source": [
        "testX = testX[features]\n",
        "tree.score(testX, testY)"
      ],
      "execution_count": null,
      "outputs": [
        {
          "output_type": "execute_result",
          "data": {
            "text/plain": [
              "0.7194517351997667"
            ]
          },
          "metadata": {},
          "execution_count": 26
        }
      ]
    },
    {
      "cell_type": "code",
      "metadata": {
        "id": "razaiQGmRUm1"
      },
      "source": [
        ""
      ],
      "execution_count": null,
      "outputs": []
    },
    {
      "cell_type": "markdown",
      "metadata": {
        "id": "T2Qi-c7yRVHC"
      },
      "source": [
        "# XGBoost"
      ]
    },
    {
      "cell_type": "markdown",
      "metadata": {
        "id": "uA79PVetVHWJ"
      },
      "source": [
        "XGBClassifier"
      ]
    },
    {
      "cell_type": "code",
      "metadata": {
        "id": "L4yogeFDSRcq"
      },
      "source": [
        "import xgboost as xgb\n",
        "from xgboost.sklearn import XGBClassifier\n",
        "#from sklearn.grid_search import GridSearchCV\n",
        "\n",
        "#from xgboost import XGBClassifier\n",
        "\n",
        "from sklearn.model_selection import cross_val_score, KFold"
      ],
      "execution_count": null,
      "outputs": []
    },
    {
      "cell_type": "code",
      "metadata": {
        "colab": {
          "base_uri": "https://localhost:8080/"
        },
        "id": "OT4fjyPiUfsf",
        "outputId": "3a3f8945-efec-4d94-b36a-3e50658797b1"
      },
      "source": [
        "xgbc = XGBClassifier()\n",
        "xgbc.fit(trainX, trainY)"
      ],
      "execution_count": null,
      "outputs": [
        {
          "output_type": "execute_result",
          "data": {
            "text/plain": [
              "XGBClassifier(objective='multi:softprob')"
            ]
          },
          "metadata": {},
          "execution_count": 18
        }
      ]
    },
    {
      "cell_type": "code",
      "metadata": {
        "colab": {
          "base_uri": "https://localhost:8080/"
        },
        "id": "FFvhNToZUihj",
        "outputId": "c264436e-fa69-4e75-9cf9-21f6bba371fa"
      },
      "source": [
        "scores = cross_val_score(xgbc, trainX, trainY, cv=5)\n",
        "print(\"Mean cross-validation score: %.2f\" % scores.mean())"
      ],
      "execution_count": null,
      "outputs": [
        {
          "output_type": "stream",
          "name": "stdout",
          "text": [
            "Mean cross-validation score: 0.67\n"
          ]
        }
      ]
    },
    {
      "cell_type": "code",
      "metadata": {
        "colab": {
          "base_uri": "https://localhost:8080/"
        },
        "id": "pFSeO23iU-UW",
        "outputId": "5e335105-515b-4b2a-9532-0fbb0c18dc15"
      },
      "source": [
        "from sklearn.metrics import confusion_matrix\n",
        "predY = xgbc.predict(testX)\n",
        "cm = confusion_matrix(testY,predY) \n",
        "print(cm)"
      ],
      "execution_count": null,
      "outputs": [
        {
          "output_type": "stream",
          "name": "stdout",
          "text": [
            "[[ 2185  4043    68]\n",
            " [ 1197 32289  3373]\n",
            " [   91 12696  9209]]\n"
          ]
        }
      ]
    },
    {
      "cell_type": "code",
      "metadata": {
        "colab": {
          "base_uri": "https://localhost:8080/"
        },
        "id": "YY_-eXGBWK-l",
        "outputId": "cbc988af-9d80-47b7-fd57-9e471d04ebc3"
      },
      "source": [
        "from sklearn.metrics import accuracy_score\n",
        "print(\"Accuracy on test set = {}\".format(accuracy_score(testY, predY)))"
      ],
      "execution_count": null,
      "outputs": [
        {
          "output_type": "stream",
          "name": "stdout",
          "text": [
            "Accuracy on test set = 0.6704885573513837\n"
          ]
        }
      ]
    },
    {
      "cell_type": "code",
      "metadata": {
        "colab": {
          "base_uri": "https://localhost:8080/"
        },
        "id": "Xc5LLeOwuApx",
        "outputId": "588f1ed1-2267-4f79-d27f-a72031e0c574"
      },
      "source": [
        "kfold = KFold(n_splits=10, shuffle=True)\n",
        "kf_cv_scores = cross_val_score(xgbc, trainX, trainY, cv=kfold )\n",
        "print(\"K-fold CV average score: %.2f\" % kf_cv_scores.mean())"
      ],
      "execution_count": null,
      "outputs": [
        {
          "output_type": "stream",
          "name": "stdout",
          "text": [
            "K-fold CV average score: 0.67\n"
          ]
        }
      ]
    },
    {
      "cell_type": "code",
      "metadata": {
        "id": "Smfa--aCwLi3"
      },
      "source": [
        ""
      ],
      "execution_count": null,
      "outputs": []
    },
    {
      "cell_type": "markdown",
      "metadata": {
        "id": "3kUuartKzEf6"
      },
      "source": [
        "Hyperparameter Tuning"
      ]
    },
    {
      "cell_type": "code",
      "metadata": {
        "colab": {
          "base_uri": "https://localhost:8080/"
        },
        "id": "9Ourdp267VmZ",
        "outputId": "4e30ad06-c64d-414c-c4df-5dec7f8a8d30"
      },
      "source": [
        "model_xgb = XGBClassifier(objective='multi:softmax', num_class=3, max_depth=2, n_estimators=10)\n"
      ],
      "execution_count": null,
      "outputs": [
        {
          "output_type": "stream",
          "name": "stdout",
          "text": [
            "Accuracy: 62.71% (0.10%)\n"
          ]
        }
      ]
    },
    {
      "cell_type": "code",
      "metadata": {
        "id": "dPUsOH9I86CP"
      },
      "source": [
        "# K-Fold Cross Validation\n",
        "from sklearn.model_selection impoKFold\n",
        "\n",
        "kfold = KFold(n_splits=5)\n",
        "results = cross_val_score(model_xgb, trainX, trainY, cv=kfold)\n",
        "\n",
        "print(\"Avg. accuracy: %.2f%% (%.2f%%)\" % (results.mean()*100, results.std()*100))"
      ],
      "execution_count": null,
      "outputs": []
    },
    {
      "cell_type": "code",
      "metadata": {
        "colab": {
          "base_uri": "https://localhost:8080/"
        },
        "id": "iLBuu1Tp74OX",
        "outputId": "c8b79764-dfb0-42b2-c024-2be209669412"
      },
      "source": [
        "model_xgb.fit(trainX, trainY)"
      ],
      "execution_count": null,
      "outputs": [
        {
          "output_type": "execute_result",
          "data": {
            "text/plain": [
              "XGBClassifier(max_depth=2, n_estimators=10, num_class=3,\n",
              "              objective='multi:softprob')"
            ]
          },
          "metadata": {},
          "execution_count": 34
        }
      ]
    },
    {
      "cell_type": "code",
      "metadata": {
        "colab": {
          "base_uri": "https://localhost:8080/",
          "height": 295
        },
        "id": "scxaa41u734-",
        "outputId": "8a3740b6-b38d-46d8-ab59-abf9eb74cc06"
      },
      "source": [
        "import xgboost\n",
        "\n",
        "# Plot the top 8 features\n",
        "xgboost.plot_importance(model_xgb, max_num_features=8)\n",
        "plt.show()"
      ],
      "execution_count": null,
      "outputs": [
        {
          "output_type": "display_data",
          "data": {
            "image/png": "[encoded data removed]",
            "text/plain": [
              "<Figure size 432x288 with 1 Axes>"
            ]
          },
          "metadata": {
            "needs_background": "light"
          }
        }
      ]
    },
    {
      "cell_type": "code",
      "metadata": {
        "colab": {
          "base_uri": "https://localhost:8080/"
        },
        "id": "FHP8w9nc8OI2",
        "outputId": "90bee727-ad44-47b0-82c2-d825e99e3412"
      },
      "source": [
        "predY = model_xgb.predict(testX)\n",
        "\n",
        "confusion_matrix(testY, predY)"
      ],
      "execution_count": null,
      "outputs": [
        {
          "output_type": "execute_result",
          "data": {
            "text/plain": [
              "array([[  463,  5881,    15],\n",
              "       [  367, 35902,   934],\n",
              "       [  108, 16724,  4757]])"
            ]
          },
          "metadata": {},
          "execution_count": 43
        }
      ]
    },
    {
      "cell_type": "code",
      "metadata": {
        "id": "4VlEpryB8OFZ"
      },
      "source": [
        ""
      ],
      "execution_count": null,
      "outputs": []
    },
    {
      "cell_type": "code",
      "metadata": {
        "id": "FReUke8h8OBQ"
      },
      "source": [
        ""
      ],
      "execution_count": null,
      "outputs": []
    },
    {
      "cell_type": "code",
      "metadata": {
        "id": "j6_OXmqf8N0O"
      },
      "source": [
        ""
      ],
      "execution_count": null,
      "outputs": []
    },
    {
      "cell_type": "code",
      "metadata": {
        "id": "Zyhw8GrWzE_Q",
        "colab": {
          "base_uri": "https://localhost:8080/"
        },
        "outputId": "18520cf6-9646-435a-af67-31dc3a0dd490"
      },
      "source": [
        "from sklearn.model_selection import GridSearchCV\n",
        "#multi:softmax – multiclass classification using the softmax objective, returns predicted class (not probabilities)\n",
        "#num_class = parameter defining the number of unique classes\n",
        "\n",
        "params = {\n",
        "     \"max_depth\"        : [ 3, 6, 9],\n",
        "     \"learning_rate\"    : [ 0.1, 0.4, 0.8],\n",
        "     \"n_estimators\"     : [ 100, 500, 1000],\n",
        "     \"colsample_bytree\" : [ 0.2, 0.5, 0.8 ],\n",
        "     \"gamma\"            : [ 0.0, 0.1, 0.3, 0.6 ],  #The higher Gamma is, the higher the regularization\n",
        "     \"min_child_weight\" : [ 1, 3, 5, 7 ],    \n",
        "     \"num_class\"        : [3]\n",
        "     }\n",
        "\n",
        "xgb_ht = XGBClassifier(objective=\"multi:softmax\")\n",
        "\n",
        "grid = GridSearchCV(xgb_ht,\n",
        "                    params,\n",
        "                    n_jobs = -1,\n",
        "                    verbose=1,\n",
        "                    cv=3)\n",
        "\n",
        "grid.fit(trainX, trainY)"
      ],
      "execution_count": null,
      "outputs": [
        {
          "output_type": "stream",
          "name": "stdout",
          "text": [
            "Fitting 3 folds for each of 1296 candidates, totalling 3888 fits\n"
          ]
        }
      ]
    },
    {
      "cell_type": "code",
      "metadata": {
        "id": "jpP2gL6TAlwE"
      },
      "source": [
        "print(\"Best parameters:\", grid.best_params_)"
      ],
      "execution_count": null,
      "outputs": []
    },
    {
      "cell_type": "code",
      "metadata": {
        "id": "_ZfHCE4iBhdG"
      },
      "source": [
        ""
      ],
      "execution_count": null,
      "outputs": []
    },
    {
      "cell_type": "code",
      "metadata": {
        "id": "q33o53K4BiBt"
      },
      "source": [
        ""
      ],
      "execution_count": null,
      "outputs": []
    },
    {
      "cell_type": "code",
      "metadata": {
        "id": "0k00d-ta42-C"
      },
      "source": [
        ""
      ],
      "execution_count": null,
      "outputs": []
    }
  ]
}