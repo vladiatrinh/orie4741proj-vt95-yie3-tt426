{
 "cells": [
  {
   "cell_type": "code",
   "execution_count": 1,
   "metadata": {
    "colab": {
     "base_uri": "https://localhost:8080/"
    },
    "id": "LkdU1gL11keh",
    "outputId": "dab0d210-979e-4bbe-fd3a-fabe60bcde40"
   },
   "outputs": [],
   "source": [
    "import pandas as pd\n",
    "import numpy as np\n",
    "import seaborn as sns\n",
    "import matplotlib.pyplot as plt\n",
    "from sklearn.model_selection import train_test_split\n",
    "from sklearn import preprocessing\n",
    "from statsmodels.graphics.mosaicplot import mosaic"
   ]
  },
  {
   "cell_type": "markdown",
   "metadata": {
    "id": "HcjEyHi6-_8k"
   },
   "source": [
    "# Loading Dataset"
   ]
  },
  {
   "cell_type": "code",
   "execution_count": 2,
   "metadata": {
    "colab": {
     "base_uri": "https://localhost:8080/",
     "height": 224
    },
    "id": "xfJtFAa01heN",
    "outputId": "2371aae8-d955-4ff1-cc59-25d97e6cfef4"
   },
   "outputs": [
    {
     "data": {
      "text/html": [
       "<div>\n",
       "<style scoped>\n",
       "    .dataframe tbody tr th:only-of-type {\n",
       "        vertical-align: middle;\n",
       "    }\n",
       "\n",
       "    .dataframe tbody tr th {\n",
       "        vertical-align: top;\n",
       "    }\n",
       "\n",
       "    .dataframe thead th {\n",
       "        text-align: right;\n",
       "    }\n",
       "</style>\n",
       "<table border=\"1\" class=\"dataframe\">\n",
       "  <thead>\n",
       "    <tr style=\"text-align: right;\">\n",
       "      <th></th>\n",
       "      <th>building_id</th>\n",
       "      <th>geo_level_1_id</th>\n",
       "      <th>geo_level_2_id</th>\n",
       "      <th>geo_level_3_id</th>\n",
       "      <th>count_floors_pre_eq</th>\n",
       "      <th>age</th>\n",
       "      <th>area_percentage</th>\n",
       "      <th>height_percentage</th>\n",
       "      <th>land_surface_condition</th>\n",
       "      <th>foundation_type</th>\n",
       "      <th>...</th>\n",
       "      <th>has_secondary_use_agriculture</th>\n",
       "      <th>has_secondary_use_hotel</th>\n",
       "      <th>has_secondary_use_rental</th>\n",
       "      <th>has_secondary_use_institution</th>\n",
       "      <th>has_secondary_use_school</th>\n",
       "      <th>has_secondary_use_industry</th>\n",
       "      <th>has_secondary_use_health_post</th>\n",
       "      <th>has_secondary_use_gov_office</th>\n",
       "      <th>has_secondary_use_use_police</th>\n",
       "      <th>has_secondary_use_other</th>\n",
       "    </tr>\n",
       "  </thead>\n",
       "  <tbody>\n",
       "    <tr>\n",
       "      <th>0</th>\n",
       "      <td>802906</td>\n",
       "      <td>6</td>\n",
       "      <td>487</td>\n",
       "      <td>12198</td>\n",
       "      <td>2</td>\n",
       "      <td>30</td>\n",
       "      <td>6</td>\n",
       "      <td>5</td>\n",
       "      <td>t</td>\n",
       "      <td>r</td>\n",
       "      <td>...</td>\n",
       "      <td>0</td>\n",
       "      <td>0</td>\n",
       "      <td>0</td>\n",
       "      <td>0</td>\n",
       "      <td>0</td>\n",
       "      <td>0</td>\n",
       "      <td>0</td>\n",
       "      <td>0</td>\n",
       "      <td>0</td>\n",
       "      <td>0</td>\n",
       "    </tr>\n",
       "    <tr>\n",
       "      <th>1</th>\n",
       "      <td>28830</td>\n",
       "      <td>8</td>\n",
       "      <td>900</td>\n",
       "      <td>2812</td>\n",
       "      <td>2</td>\n",
       "      <td>10</td>\n",
       "      <td>8</td>\n",
       "      <td>7</td>\n",
       "      <td>o</td>\n",
       "      <td>r</td>\n",
       "      <td>...</td>\n",
       "      <td>0</td>\n",
       "      <td>0</td>\n",
       "      <td>0</td>\n",
       "      <td>0</td>\n",
       "      <td>0</td>\n",
       "      <td>0</td>\n",
       "      <td>0</td>\n",
       "      <td>0</td>\n",
       "      <td>0</td>\n",
       "      <td>0</td>\n",
       "    </tr>\n",
       "    <tr>\n",
       "      <th>2</th>\n",
       "      <td>94947</td>\n",
       "      <td>21</td>\n",
       "      <td>363</td>\n",
       "      <td>8973</td>\n",
       "      <td>2</td>\n",
       "      <td>10</td>\n",
       "      <td>5</td>\n",
       "      <td>5</td>\n",
       "      <td>t</td>\n",
       "      <td>r</td>\n",
       "      <td>...</td>\n",
       "      <td>0</td>\n",
       "      <td>0</td>\n",
       "      <td>0</td>\n",
       "      <td>0</td>\n",
       "      <td>0</td>\n",
       "      <td>0</td>\n",
       "      <td>0</td>\n",
       "      <td>0</td>\n",
       "      <td>0</td>\n",
       "      <td>0</td>\n",
       "    </tr>\n",
       "    <tr>\n",
       "      <th>3</th>\n",
       "      <td>590882</td>\n",
       "      <td>22</td>\n",
       "      <td>418</td>\n",
       "      <td>10694</td>\n",
       "      <td>2</td>\n",
       "      <td>10</td>\n",
       "      <td>6</td>\n",
       "      <td>5</td>\n",
       "      <td>t</td>\n",
       "      <td>r</td>\n",
       "      <td>...</td>\n",
       "      <td>0</td>\n",
       "      <td>0</td>\n",
       "      <td>0</td>\n",
       "      <td>0</td>\n",
       "      <td>0</td>\n",
       "      <td>0</td>\n",
       "      <td>0</td>\n",
       "      <td>0</td>\n",
       "      <td>0</td>\n",
       "      <td>0</td>\n",
       "    </tr>\n",
       "    <tr>\n",
       "      <th>4</th>\n",
       "      <td>201944</td>\n",
       "      <td>11</td>\n",
       "      <td>131</td>\n",
       "      <td>1488</td>\n",
       "      <td>3</td>\n",
       "      <td>30</td>\n",
       "      <td>8</td>\n",
       "      <td>9</td>\n",
       "      <td>t</td>\n",
       "      <td>r</td>\n",
       "      <td>...</td>\n",
       "      <td>0</td>\n",
       "      <td>0</td>\n",
       "      <td>0</td>\n",
       "      <td>0</td>\n",
       "      <td>0</td>\n",
       "      <td>0</td>\n",
       "      <td>0</td>\n",
       "      <td>0</td>\n",
       "      <td>0</td>\n",
       "      <td>0</td>\n",
       "    </tr>\n",
       "  </tbody>\n",
       "</table>\n",
       "<p>5 rows × 39 columns</p>\n",
       "</div>"
      ],
      "text/plain": [
       "   building_id  geo_level_1_id  geo_level_2_id  geo_level_3_id  \\\n",
       "0       802906               6             487           12198   \n",
       "1        28830               8             900            2812   \n",
       "2        94947              21             363            8973   \n",
       "3       590882              22             418           10694   \n",
       "4       201944              11             131            1488   \n",
       "\n",
       "   count_floors_pre_eq  age  area_percentage  height_percentage  \\\n",
       "0                    2   30                6                  5   \n",
       "1                    2   10                8                  7   \n",
       "2                    2   10                5                  5   \n",
       "3                    2   10                6                  5   \n",
       "4                    3   30                8                  9   \n",
       "\n",
       "  land_surface_condition foundation_type  ... has_secondary_use_agriculture  \\\n",
       "0                      t               r  ...                             0   \n",
       "1                      o               r  ...                             0   \n",
       "2                      t               r  ...                             0   \n",
       "3                      t               r  ...                             0   \n",
       "4                      t               r  ...                             0   \n",
       "\n",
       "  has_secondary_use_hotel has_secondary_use_rental  \\\n",
       "0                       0                        0   \n",
       "1                       0                        0   \n",
       "2                       0                        0   \n",
       "3                       0                        0   \n",
       "4                       0                        0   \n",
       "\n",
       "  has_secondary_use_institution has_secondary_use_school  \\\n",
       "0                             0                        0   \n",
       "1                             0                        0   \n",
       "2                             0                        0   \n",
       "3                             0                        0   \n",
       "4                             0                        0   \n",
       "\n",
       "   has_secondary_use_industry  has_secondary_use_health_post  \\\n",
       "0                           0                              0   \n",
       "1                           0                              0   \n",
       "2                           0                              0   \n",
       "3                           0                              0   \n",
       "4                           0                              0   \n",
       "\n",
       "   has_secondary_use_gov_office  has_secondary_use_use_police  \\\n",
       "0                             0                             0   \n",
       "1                             0                             0   \n",
       "2                             0                             0   \n",
       "3                             0                             0   \n",
       "4                             0                             0   \n",
       "\n",
       "   has_secondary_use_other  \n",
       "0                        0  \n",
       "1                        0  \n",
       "2                        0  \n",
       "3                        0  \n",
       "4                        0  \n",
       "\n",
       "[5 rows x 39 columns]"
      ]
     },
     "execution_count": 2,
     "metadata": {},
     "output_type": "execute_result"
    }
   ],
   "source": [
    "raw_train_values = pd.read_csv('Data/train_values.csv')\n",
    "raw_train_values.head()"
   ]
  },
  {
   "cell_type": "code",
   "execution_count": 3,
   "metadata": {
    "colab": {
     "base_uri": "https://localhost:8080/",
     "height": 204
    },
    "id": "qu3ORRDw1qCI",
    "outputId": "c18aba7f-6943-4421-ea24-0157b00f71c0"
   },
   "outputs": [
    {
     "data": {
      "text/html": [
       "<div>\n",
       "<style scoped>\n",
       "    .dataframe tbody tr th:only-of-type {\n",
       "        vertical-align: middle;\n",
       "    }\n",
       "\n",
       "    .dataframe tbody tr th {\n",
       "        vertical-align: top;\n",
       "    }\n",
       "\n",
       "    .dataframe thead th {\n",
       "        text-align: right;\n",
       "    }\n",
       "</style>\n",
       "<table border=\"1\" class=\"dataframe\">\n",
       "  <thead>\n",
       "    <tr style=\"text-align: right;\">\n",
       "      <th></th>\n",
       "      <th>building_id</th>\n",
       "      <th>damage_grade</th>\n",
       "    </tr>\n",
       "  </thead>\n",
       "  <tbody>\n",
       "    <tr>\n",
       "      <th>0</th>\n",
       "      <td>802906</td>\n",
       "      <td>3</td>\n",
       "    </tr>\n",
       "    <tr>\n",
       "      <th>1</th>\n",
       "      <td>28830</td>\n",
       "      <td>2</td>\n",
       "    </tr>\n",
       "    <tr>\n",
       "      <th>2</th>\n",
       "      <td>94947</td>\n",
       "      <td>3</td>\n",
       "    </tr>\n",
       "    <tr>\n",
       "      <th>3</th>\n",
       "      <td>590882</td>\n",
       "      <td>2</td>\n",
       "    </tr>\n",
       "    <tr>\n",
       "      <th>4</th>\n",
       "      <td>201944</td>\n",
       "      <td>3</td>\n",
       "    </tr>\n",
       "  </tbody>\n",
       "</table>\n",
       "</div>"
      ],
      "text/plain": [
       "   building_id  damage_grade\n",
       "0       802906             3\n",
       "1        28830             2\n",
       "2        94947             3\n",
       "3       590882             2\n",
       "4       201944             3"
      ]
     },
     "execution_count": 3,
     "metadata": {},
     "output_type": "execute_result"
    }
   ],
   "source": [
    "raw_train_labels = pd.read_csv('Data/train_labels.csv')\n",
    "raw_train_labels.head()"
   ]
  },
  {
   "cell_type": "code",
   "execution_count": 4,
   "metadata": {},
   "outputs": [],
   "source": [
    "df = pd.merge(raw_train_values, raw_train_labels, how=\"left\", on=\"building_id\")"
   ]
  },
  {
   "cell_type": "code",
   "execution_count": 5,
   "metadata": {
    "id": "a3R6Unhg90YM"
   },
   "outputs": [],
   "source": [
    "# splitting dataset into train and test sets\n",
    "trainX, testX, trainY, testY = train_test_split(raw_train_values, raw_train_labels['damage_grade'], test_size=0.25) "
   ]
  },
  {
   "cell_type": "markdown",
   "metadata": {
    "id": "RmghCBdp_efu"
   },
   "source": [
    "# Data Processing"
   ]
  },
  {
   "cell_type": "code",
   "execution_count": 6,
   "metadata": {
    "id": "BSCeEI2YDTDl"
   },
   "outputs": [],
   "source": [
    "# normalizes features so they range from 0 to 1\n",
    "def normalize_columns(df, cols):\n",
    "    df_subset = df[cols]\n",
    "    min_max_scaler = preprocessing.MinMaxScaler(feature_range=(0,1))\n",
    "    df_scaled = pd.DataFrame(min_max_scaler.fit_transform(df_subset))\n",
    "\n",
    "    namedict = {}\n",
    "    for i in range(len(cols)):\n",
    "        namedict[i] = cols[i]\n",
    "\n",
    "        df_scaled.rename(columns=namedict, inplace=True)\n",
    "        df_original = df.drop(columns=cols).reset_index()\n",
    "\n",
    "    return pd.concat([df_scaled, df_original], axis=1)\n",
    "\n",
    "# convert percentages to decimal from 0 to 1\n",
    "def percent_to_decimal(df, cols):\n",
    "\n",
    "    for name in cols:\n",
    "        df[name] = df[name] / 100\n",
    "\n",
    "    return df\n",
    "\n",
    "# converts categorical features to binary features\n",
    "def onehot_encoding(df, cols):\n",
    "\n",
    "  # TODO\n",
    "\n",
    "  return\n",
    "\n"
   ]
  },
  {
   "cell_type": "code",
   "execution_count": 7,
   "metadata": {
    "id": "DDJ5cbTcE7ZJ"
   },
   "outputs": [],
   "source": [
    "cols = ['geo_level_1_id', 'geo_level_2_id', 'geo_level_3_id', 'count_floors_pre_eq', 'age']\n",
    "data_with_labels = pd.concat([trainY,trainX], axis=1)\n",
    "norm_data = normalize_columns(data_with_labels, cols)\n",
    "percent_data = percent_to_decimal(norm_data, ['area_percentage','height_percentage'])"
   ]
  },
  {
   "cell_type": "markdown",
   "metadata": {
    "id": "CQWJEt2dSCAX"
   },
   "source": [
    "# Data Exploration"
   ]
  },
  {
   "cell_type": "code",
   "execution_count": 8,
   "metadata": {
    "colab": {
     "base_uri": "https://localhost:8080/"
    },
    "id": "SS_ITjMh-trX",
    "outputId": "3a7e5c24-4e49-4cc6-940a-63b8be09e20a"
   },
   "outputs": [
    {
     "data": {
      "text/plain": [
       "[('count_floors_pre_eq', 0.12177760288128084),\n",
       " ('damage_grade', 1.0),\n",
       " ('area_percentage', -0.12199331995792069),\n",
       " ('has_superstructure_mud_mortar_stone', 0.2898767555357635),\n",
       " ('has_superstructure_cement_mortar_brick', -0.25235885877451364),\n",
       " ('has_superstructure_rc_non_engineered', -0.15769174165833932),\n",
       " ('has_superstructure_rc_engineered', -0.1792663746925485)]"
      ]
     },
     "execution_count": 8,
     "metadata": {},
     "output_type": "execute_result"
    }
   ],
   "source": [
    "damage_corr = dict(percent_data.corr()['damage_grade'])\n",
    "\n",
    "good_features = []\n",
    "alpha = 0.1\n",
    "\n",
    "for k,v in damage_corr.items():\n",
    "    if abs(v) > alpha:\n",
    "        good_features.append((k,v))\n",
    "\n",
    "good_features"
   ]
  },
  {
   "cell_type": "code",
   "execution_count": 9,
   "metadata": {
    "colab": {
     "base_uri": "https://localhost:8080/",
     "height": 258
    },
    "id": "Uzan6J4_POa4",
    "outputId": "e0391220-ac10-4cdb-cbde-f59681058c99"
   },
   "outputs": [
    {
     "data": {
      "image/png": "[encoded data removed]",
      "text/plain": [
       "<Figure size 288x288 with 2 Axes>"
      ]
     },
     "metadata": {
      "needs_background": "light"
     },
     "output_type": "display_data"
    }
   ],
   "source": [
    "plt.matshow(percent_data[[x[0] for x in good_features]].corr())\n",
    "cb = plt.colorbar()\n",
    "plt.show()"
   ]
  },
  {
   "cell_type": "code",
   "execution_count": 10,
   "metadata": {
    "colab": {
     "base_uri": "https://localhost:8080/"
    },
    "id": "UJBoxMQoTBdh",
    "outputId": "4102939c-b516-4dbe-b0f8-22b69a98424d"
   },
   "outputs": [
    {
     "data": {
      "text/plain": [
       "2    148259\n",
       "3     87218\n",
       "1     25124\n",
       "Name: damage_grade, dtype: int64"
      ]
     },
     "execution_count": 10,
     "metadata": {},
     "output_type": "execute_result"
    }
   ],
   "source": [
    "raw_train_labels['damage_grade'].value_counts()"
   ]
  },
  {
   "cell_type": "code",
   "execution_count": 11,
   "metadata": {
    "colab": {
     "base_uri": "https://localhost:8080/"
    },
    "id": "wyRPcQN1VpoM",
    "outputId": "ffb0d3b8-cf95-4482-f341-f567caa2eeea"
   },
   "outputs": [
    {
     "data": {
      "text/plain": [
       "[Text(0, 0, '0.0'),\n",
       " Text(1, 0, '0.125'),\n",
       " Text(2, 0, '0.25'),\n",
       " Text(3, 0, '0.375'),\n",
       " Text(4, 0, '0.5'),\n",
       " Text(5, 0, '0.625'),\n",
       " Text(6, 0, '0.75'),\n",
       " Text(7, 0, '0.875'),\n",
       " Text(8, 0, '1.0')]"
      ]
     },
     "execution_count": 11,
     "metadata": {},
     "output_type": "execute_result"
    },
    {
     "data": {
      "image/png": "[encoded data removed]",
      "text/plain": [
       "<Figure size 432x288 with 1 Axes>"
      ]
     },
     "metadata": {
      "needs_background": "light"
     },
     "output_type": "display_data"
    }
   ],
   "source": [
    "ax = sns.stripplot(x='count_floors_pre_eq', y='area_percentage', hue='damage_grade', data=percent_data, palette='YlOrBr', alpha=0.1, jitter=True)\n",
    "ax.set_xticklabels(ax.get_xticklabels(),rotation = 30)"
   ]
  },
  {
   "cell_type": "markdown",
   "metadata": {
    "id": "bemm1KxYawad"
   },
   "source": [
    "So far, this is only using the numerical and binary features. Correlation ignores all categorial data."
   ]
  },
  {
   "cell_type": "code",
   "execution_count": 12,
   "metadata": {
    "id": "zOID8ifplRH0"
   },
   "outputs": [],
   "source": [
    "land_damage = pd.crosstab(raw_train_values['land_surface_condition'],raw_train_labels['damage_grade'])\n",
    "foundation_damage = pd.crosstab(raw_train_values['foundation_type'],raw_train_labels['damage_grade'])\n",
    "other_floor_type_damage = pd.crosstab(raw_train_values['other_floor_type'],raw_train_labels['damage_grade'])"
   ]
  },
  {
   "cell_type": "code",
   "execution_count": 14,
   "metadata": {
    "colab": {
     "base_uri": "https://localhost:8080/",
     "height": 441
    },
    "id": "eOgUYhHMmOgM",
    "outputId": "7b71e3c7-0f2c-4d25-ecb0-2f9e61a6431c"
   },
   "outputs": [
    {
     "data": {
      "image/png": "[encoded data removed]",
      "text/plain": [
       "<Figure size 1080x360 with 6 Axes>"
      ]
     },
     "metadata": {
      "needs_background": "light"
     },
     "output_type": "display_data"
    }
   ],
   "source": [
    "plt.figure(figsize=(15, 5))\n",
    "plt.subplot(1, 3, 1)\n",
    "sns.heatmap(land_damage, annot=True, fmt=\"d\", cmap=\"YlGnBu\")\n",
    "\n",
    "plt.subplot(1, 3, 2)\n",
    "sns.heatmap(foundation_damage, annot=True, fmt=\"d\", cmap=\"YlGnBu\")\n",
    "\n",
    "plt.subplot(1, 3, 3)\n",
    "sns.heatmap(other_floor_type_damage, annot=True, fmt=\"d\", cmap=\"YlGnBu\")\n",
    "\n",
    "plt.tight_layout()\n",
    "# plt.savefig(\"land_surface_condition_foundation_type.jpeg\", bbox_inches='tight')\n",
    "plt.show()"
   ]
  },
  {
   "cell_type": "code",
   "execution_count": 15,
   "metadata": {},
   "outputs": [
    {
     "data": {
      "text/plain": [
       "array([3, 2, 3, ..., 3, 2, 3])"
      ]
     },
     "execution_count": 15,
     "metadata": {},
     "output_type": "execute_result"
    }
   ],
   "source": [
    "df['damage_grade'].values"
   ]
  },
  {
   "cell_type": "code",
   "execution_count": 16,
   "metadata": {},
   "outputs": [],
   "source": [
    "df_remove_age_outlier = df[df['age'] < 300]\n",
    "df_age_greater_990 = df[df['age'] >= 300]"
   ]
  },
  {
   "cell_type": "code",
   "execution_count": 17,
   "metadata": {},
   "outputs": [],
   "source": [
    "count_by_damage = df_age_greater_990.groupby('damage_grade').count()['building_id'].values"
   ]
  },
  {
   "cell_type": "code",
   "execution_count": 18,
   "metadata": {},
   "outputs": [
    {
     "data": {
      "text/html": [
       "<div>\n",
       "<style scoped>\n",
       "    .dataframe tbody tr th:only-of-type {\n",
       "        vertical-align: middle;\n",
       "    }\n",
       "\n",
       "    .dataframe tbody tr th {\n",
       "        vertical-align: top;\n",
       "    }\n",
       "\n",
       "    .dataframe thead th {\n",
       "        text-align: right;\n",
       "    }\n",
       "</style>\n",
       "<table border=\"1\" class=\"dataframe\">\n",
       "  <thead>\n",
       "    <tr style=\"text-align: right;\">\n",
       "      <th></th>\n",
       "      <th>building_id</th>\n",
       "      <th>geo_level_1_id</th>\n",
       "      <th>geo_level_2_id</th>\n",
       "      <th>geo_level_3_id</th>\n",
       "      <th>count_floors_pre_eq</th>\n",
       "      <th>age</th>\n",
       "      <th>area_percentage</th>\n",
       "      <th>height_percentage</th>\n",
       "      <th>land_surface_condition</th>\n",
       "      <th>foundation_type</th>\n",
       "      <th>...</th>\n",
       "      <th>has_secondary_use_agriculture</th>\n",
       "      <th>has_secondary_use_hotel</th>\n",
       "      <th>has_secondary_use_rental</th>\n",
       "      <th>has_secondary_use_institution</th>\n",
       "      <th>has_secondary_use_school</th>\n",
       "      <th>has_secondary_use_industry</th>\n",
       "      <th>has_secondary_use_health_post</th>\n",
       "      <th>has_secondary_use_gov_office</th>\n",
       "      <th>has_secondary_use_use_police</th>\n",
       "      <th>has_secondary_use_other</th>\n",
       "    </tr>\n",
       "    <tr>\n",
       "      <th>damage_grade</th>\n",
       "      <th></th>\n",
       "      <th></th>\n",
       "      <th></th>\n",
       "      <th></th>\n",
       "      <th></th>\n",
       "      <th></th>\n",
       "      <th></th>\n",
       "      <th></th>\n",
       "      <th></th>\n",
       "      <th></th>\n",
       "      <th></th>\n",
       "      <th></th>\n",
       "      <th></th>\n",
       "      <th></th>\n",
       "      <th></th>\n",
       "      <th></th>\n",
       "      <th></th>\n",
       "      <th></th>\n",
       "      <th></th>\n",
       "      <th></th>\n",
       "      <th></th>\n",
       "    </tr>\n",
       "  </thead>\n",
       "  <tbody>\n",
       "    <tr>\n",
       "      <th>1</th>\n",
       "      <td>179</td>\n",
       "      <td>179</td>\n",
       "      <td>179</td>\n",
       "      <td>179</td>\n",
       "      <td>179</td>\n",
       "      <td>179</td>\n",
       "      <td>179</td>\n",
       "      <td>179</td>\n",
       "      <td>179</td>\n",
       "      <td>179</td>\n",
       "      <td>...</td>\n",
       "      <td>179</td>\n",
       "      <td>179</td>\n",
       "      <td>179</td>\n",
       "      <td>179</td>\n",
       "      <td>179</td>\n",
       "      <td>179</td>\n",
       "      <td>179</td>\n",
       "      <td>179</td>\n",
       "      <td>179</td>\n",
       "      <td>179</td>\n",
       "    </tr>\n",
       "    <tr>\n",
       "      <th>2</th>\n",
       "      <td>822</td>\n",
       "      <td>822</td>\n",
       "      <td>822</td>\n",
       "      <td>822</td>\n",
       "      <td>822</td>\n",
       "      <td>822</td>\n",
       "      <td>822</td>\n",
       "      <td>822</td>\n",
       "      <td>822</td>\n",
       "      <td>822</td>\n",
       "      <td>...</td>\n",
       "      <td>822</td>\n",
       "      <td>822</td>\n",
       "      <td>822</td>\n",
       "      <td>822</td>\n",
       "      <td>822</td>\n",
       "      <td>822</td>\n",
       "      <td>822</td>\n",
       "      <td>822</td>\n",
       "      <td>822</td>\n",
       "      <td>822</td>\n",
       "    </tr>\n",
       "    <tr>\n",
       "      <th>3</th>\n",
       "      <td>389</td>\n",
       "      <td>389</td>\n",
       "      <td>389</td>\n",
       "      <td>389</td>\n",
       "      <td>389</td>\n",
       "      <td>389</td>\n",
       "      <td>389</td>\n",
       "      <td>389</td>\n",
       "      <td>389</td>\n",
       "      <td>389</td>\n",
       "      <td>...</td>\n",
       "      <td>389</td>\n",
       "      <td>389</td>\n",
       "      <td>389</td>\n",
       "      <td>389</td>\n",
       "      <td>389</td>\n",
       "      <td>389</td>\n",
       "      <td>389</td>\n",
       "      <td>389</td>\n",
       "      <td>389</td>\n",
       "      <td>389</td>\n",
       "    </tr>\n",
       "  </tbody>\n",
       "</table>\n",
       "<p>3 rows × 39 columns</p>\n",
       "</div>"
      ],
      "text/plain": [
       "              building_id  geo_level_1_id  geo_level_2_id  geo_level_3_id  \\\n",
       "damage_grade                                                                \n",
       "1                     179             179             179             179   \n",
       "2                     822             822             822             822   \n",
       "3                     389             389             389             389   \n",
       "\n",
       "              count_floors_pre_eq  age  area_percentage  height_percentage  \\\n",
       "damage_grade                                                                 \n",
       "1                             179  179              179                179   \n",
       "2                             822  822              822                822   \n",
       "3                             389  389              389                389   \n",
       "\n",
       "              land_surface_condition  foundation_type  ...  \\\n",
       "damage_grade                                           ...   \n",
       "1                                179              179  ...   \n",
       "2                                822              822  ...   \n",
       "3                                389              389  ...   \n",
       "\n",
       "              has_secondary_use_agriculture  has_secondary_use_hotel  \\\n",
       "damage_grade                                                           \n",
       "1                                       179                      179   \n",
       "2                                       822                      822   \n",
       "3                                       389                      389   \n",
       "\n",
       "              has_secondary_use_rental  has_secondary_use_institution  \\\n",
       "damage_grade                                                            \n",
       "1                                  179                            179   \n",
       "2                                  822                            822   \n",
       "3                                  389                            389   \n",
       "\n",
       "              has_secondary_use_school  has_secondary_use_industry  \\\n",
       "damage_grade                                                         \n",
       "1                                  179                         179   \n",
       "2                                  822                         822   \n",
       "3                                  389                         389   \n",
       "\n",
       "              has_secondary_use_health_post  has_secondary_use_gov_office  \\\n",
       "damage_grade                                                                \n",
       "1                                       179                           179   \n",
       "2                                       822                           822   \n",
       "3                                       389                           389   \n",
       "\n",
       "              has_secondary_use_use_police  has_secondary_use_other  \n",
       "damage_grade                                                         \n",
       "1                                      179                      179  \n",
       "2                                      822                      822  \n",
       "3                                      389                      389  \n",
       "\n",
       "[3 rows x 39 columns]"
      ]
     },
     "execution_count": 18,
     "metadata": {},
     "output_type": "execute_result"
    }
   ],
   "source": [
    "df_age_greater_990.groupby('damage_grade').count()"
   ]
  },
  {
   "cell_type": "code",
   "execution_count": 29,
   "metadata": {},
   "outputs": [
    {
     "data": {
      "image/png": "[encoded data removed]",
      "text/plain": [
       "<Figure size 1152x360 with 3 Axes>"
      ]
     },
     "metadata": {
      "needs_background": "light"
     },
     "output_type": "display_data"
    }
   ],
   "source": [
    "plt.figure(figsize=(16, 5))\n",
    "plt.subplot(1, 3, 1)\n",
    "sns.histplot(data=df_remove_age_outlier, x=\"age\", binwidth=10,\n",
    "            hue = \"damage_grade\", palette=\"crest\", multiple=\"stack\")\n",
    "plt.title(\"Histogram of Damage Grade for Building less than age 995\")\n",
    "\n",
    "# plt.subplot(2, 2, 2)\n",
    "# # sns.lineplot(x=[\"1\", \"2\", \"3\"], y=count_by_damage)\n",
    "# sns.barplot(x=[\"1\", \"2\", \"3\"], y=count_by_damage, palette=\"crest\")\n",
    "# plt.xlabel(\"Damage Grade\")\n",
    "# plt.ylabel(\"Count\")\n",
    "# plt.title(\"Histogram of Damage Grade for Building Aged 995\")\n",
    "\n",
    "plt.subplot(1, 3, 2)\n",
    "sns.histplot(data=df_remove_age_outlier, x=\"count_floors_pre_eq\",\n",
    "            hue = \"damage_grade\", palette=\"crest\", multiple=\"stack\")\n",
    "plt.title(\"Histogram of Damage Grade for count_floors_pre_eq\")\n",
    "\n",
    "plt.subplot(1, 3, 3)\n",
    "sns.histplot(data=df_remove_age_outlier, x=\"height_percentage\",\n",
    "            hue = \"damage_grade\", palette=\"crest\", multiple=\"stack\", binwidth=3)\n",
    "plt.title(\"Histogram of Damage Grade for height_percentage\")\n",
    "\n",
    "plt.tight_layout()\n",
    "plt.savefig(\"histogram.jpeg\", bbox_inches='tight')\n",
    "plt.show()"
   ]
  }
 ],
 "metadata": {
  "colab": {
   "collapsed_sections": [],
   "name": "ORIE4741 Project.ipynb",
   "provenance": []
  },
  "kernelspec": {
   "display_name": "orie4741",
   "language": "python",
   "name": "orie4741"
  },
  "language_info": {
   "codemirror_mode": {
    "name": "ipython",
    "version": 3
   },
   "file_extension": ".py",
   "mimetype": "text/x-python",
   "name": "python",
   "nbconvert_exporter": "python",
   "pygments_lexer": "ipython3",
   "version": "3.9.5"
  }
 },
 "nbformat": 4,
 "nbformat_minor": 4
}
